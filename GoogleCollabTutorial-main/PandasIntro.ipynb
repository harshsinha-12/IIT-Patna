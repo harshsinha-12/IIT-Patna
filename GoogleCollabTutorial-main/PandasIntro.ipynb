{
  "nbformat": 4,
  "nbformat_minor": 0,
  "metadata": {
    "colab": {
      "provenance": [],
      "authorship_tag": "ABX9TyN0cL5rINBbKxX+ftmoXjiK",
      "include_colab_link": true
    },
    "kernelspec": {
      "name": "python3",
      "display_name": "Python 3"
    },
    "language_info": {
      "name": "python"
    }
  },
  "cells": [
    {
      "cell_type": "markdown",
      "metadata": {
        "id": "view-in-github",
        "colab_type": "text"
      },
      "source": [
        "<a href=\"https://colab.research.google.com/github/harshsinha-12/GoogleCollabTutorial/blob/main/PandasIntro.ipynb\" target=\"_parent\"><img src=\"https://colab.research.google.com/assets/colab-badge.svg\" alt=\"Open In Colab\"/></a>"
      ]
    },
    {
      "cell_type": "code",
      "execution_count": 5,
      "metadata": {
        "colab": {
          "base_uri": "https://localhost:8080/"
        },
        "id": "sVMj9ZAlPmPM",
        "outputId": "0edb3da0-3755-411d-c677-8d79c1d021ee"
      },
      "outputs": [
        {
          "output_type": "stream",
          "name": "stdout",
          "text": [
            "0    10\n",
            "1    10\n",
            "2    10\n",
            "3    10\n",
            "dtype: int64\n"
          ]
        }
      ],
      "source": [
        "# series from Scalar value with defined index value\n",
        "import pandas as pd\n",
        "series2 = pd.Series(10, [0,1,2,3])\n",
        "print(series2)"
      ]
    },
    {
      "cell_type": "code",
      "source": [
        "name = pd.Series(['Harsh', 'Annu'])\n",
        "topic = pd.Series(['FinTech', 'Anime'])\n",
        "dic3 = {'Name' : name, 'Interest' : topic}\n",
        "df5 = pd.DataFrame(dic3)\n",
        "print(df5)"
      ],
      "metadata": {
        "colab": {
          "base_uri": "https://localhost:8080/"
        },
        "id": "ykXpE4kPQIj_",
        "outputId": "8d16b15e-ef3f-442e-bf7a-bc274b87a67d"
      },
      "execution_count": 10,
      "outputs": [
        {
          "output_type": "stream",
          "name": "stdout",
          "text": [
            "    Name Interest\n",
            "0  Harsh  FinTech\n",
            "1   Annu    Anime\n"
          ]
        }
      ]
    },
    {
      "cell_type": "code",
      "source": [
        "lst3 = [[5,6,8],[3,6]]\n",
        "df2 = pd.DataFrame(lst3, index = [0,1], columns = [2,3,4])\n",
        "print(df2)"
      ],
      "metadata": {
        "colab": {
          "base_uri": "https://localhost:8080/"
        },
        "id": "k5BGpO50TDNV",
        "outputId": "5e3372f5-0f22-4159-bcde-d2a78e1d34f7"
      },
      "execution_count": 11,
      "outputs": [
        {
          "output_type": "stream",
          "name": "stdout",
          "text": [
            "   2  3    4\n",
            "0  5  6  8.0\n",
            "1  3  6  NaN\n"
          ]
        }
      ]
    },
    {
      "cell_type": "code",
      "source": [
        "lst = [10,11,12,13,14,15]\n",
        "s4 = pd.Series(lst)\n",
        "print(s4)\n",
        "print(s4.describe)\n",
        "print(s4.describe())"
      ],
      "metadata": {
        "colab": {
          "base_uri": "https://localhost:8080/"
        },
        "id": "0P7KUYOXTy42",
        "outputId": "40f28fa8-2622-41d0-fd93-108c61e5c0e6"
      },
      "execution_count": 12,
      "outputs": [
        {
          "output_type": "stream",
          "name": "stdout",
          "text": [
            "0    10\n",
            "1    11\n",
            "2    12\n",
            "3    13\n",
            "4    14\n",
            "5    15\n",
            "dtype: int64\n",
            "<bound method NDFrame.describe of 0    10\n",
            "1    11\n",
            "2    12\n",
            "3    13\n",
            "4    14\n",
            "5    15\n",
            "dtype: int64>\n",
            "count     6.000000\n",
            "mean     12.500000\n",
            "std       1.870829\n",
            "min      10.000000\n",
            "25%      11.250000\n",
            "50%      12.500000\n",
            "75%      13.750000\n",
            "max      15.000000\n",
            "dtype: float64\n"
          ]
        }
      ]
    },
    {
      "cell_type": "code",
      "source": [
        "series1 = pd.Series(10)\n",
        "print(series1)"
      ],
      "metadata": {
        "colab": {
          "base_uri": "https://localhost:8080/"
        },
        "id": "a_6GRwiQUPX8",
        "outputId": "2b6ec863-80a5-47e9-83a1-2ef3ec02a57c"
      },
      "execution_count": 13,
      "outputs": [
        {
          "output_type": "stream",
          "name": "stdout",
          "text": [
            "0    10\n",
            "dtype: int64\n"
          ]
        }
      ]
    },
    {
      "cell_type": "code",
      "source": [],
      "metadata": {
        "id": "-0HFCfclUi7B"
      },
      "execution_count": null,
      "outputs": []
    }
  ]
}