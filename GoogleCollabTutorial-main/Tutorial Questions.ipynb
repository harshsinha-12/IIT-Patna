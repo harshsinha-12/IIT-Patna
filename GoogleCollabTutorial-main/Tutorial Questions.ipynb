{
  "nbformat": 4,
  "nbformat_minor": 0,
  "metadata": {
    "colab": {
      "provenance": [],
      "cell_execution_strategy": "setup",
      "authorship_tag": "ABX9TyPPxpTdSSG0bWO01+VlZmu1",
      "include_colab_link": true
    },
    "kernelspec": {
      "name": "python3",
      "display_name": "Python 3"
    },
    "language_info": {
      "name": "python"
    }
  },
  "cells": [
    {
      "cell_type": "markdown",
      "metadata": {
        "id": "view-in-github",
        "colab_type": "text"
      },
      "source": [
        "<a href=\"https://colab.research.google.com/github/harshsinha-12/GoogleCollabTutorial/blob/main/Tutorial%20Questions.ipynb\" target=\"_parent\"><img src=\"https://colab.research.google.com/assets/colab-badge.svg\" alt=\"Open In Colab\"/></a>"
      ]
    },
    {
      "cell_type": "markdown",
      "source": [
        "# Question 1"
      ],
      "metadata": {
        "id": "ZAptx4zcP1Je"
      }
    },
    {
      "cell_type": "code",
      "execution_count": 17,
      "metadata": {
        "colab": {
          "base_uri": "https://localhost:8080/"
        },
        "id": "lxwdDXdqPJ5u",
        "outputId": "20a05f36-c9d7-4678-a148-12c4fba30e70"
      },
      "outputs": [
        {
          "output_type": "stream",
          "name": "stdout",
          "text": [
            "[[[0. 0. 0. 0.]\n",
            "  [0. 0. 0. 0.]\n",
            "  [0. 0. 0. 0.]]\n",
            "\n",
            " [[0. 0. 0. 0.]\n",
            "  [0. 0. 0. 0.]\n",
            "  [0. 0. 0. 0.]]]\n"
          ]
        }
      ],
      "source": [
        "import numpy as np\n",
        "\n",
        "\n",
        "shape = (2, 3, 4)\n",
        "\n",
        "# Create a 3D array filled with zeros\n",
        "array_3d = np.zeros(shape)\n",
        "\n",
        "\n",
        "print(array_3d)"
      ]
    },
    {
      "cell_type": "markdown",
      "source": [
        "# Question 2"
      ],
      "metadata": {
        "id": "_hnt3zKYP4cI"
      }
    },
    {
      "cell_type": "code",
      "source": [
        "import numpy as np\n",
        "\n",
        "original_array = np.array([1, 2, 3, 4, 5])\n",
        "\n",
        "copied_array = np.copy(original_array)\n",
        "\n",
        "print(copied_array)\n"
      ],
      "metadata": {
        "colab": {
          "base_uri": "https://localhost:8080/"
        },
        "id": "NqOrudPnP30z",
        "outputId": "3d12ef34-80d2-48a5-a47f-648a953612de"
      },
      "execution_count": 10,
      "outputs": [
        {
          "output_type": "stream",
          "name": "stdout",
          "text": [
            "[1 2 3 4 5]\n"
          ]
        }
      ]
    },
    {
      "cell_type": "code",
      "source": [
        "# Using Slicing\n",
        "\n",
        "import numpy as np\n",
        "\n",
        "original_array = np.array([1, 2, 3, 4, 5])\n",
        "\n",
        "copied_array = original_array[:]\n",
        "\n",
        "print(copied_array)\n"
      ],
      "metadata": {
        "colab": {
          "base_uri": "https://localhost:8080/"
        },
        "id": "s4gtnfNNQKTF",
        "outputId": "6620dd0a-edbb-48d3-fb1d-5b88c3b56940"
      },
      "execution_count": 9,
      "outputs": [
        {
          "output_type": "stream",
          "name": "stdout",
          "text": [
            "[1 2 3 4 5]\n"
          ]
        }
      ]
    },
    {
      "cell_type": "code",
      "source": [
        "# Uaing Numpy.array\n",
        "\n",
        "import numpy as np\n",
        "\n",
        "\n",
        "original_array = np.array([1, 2, 3, 4, 5])\n",
        "\n",
        "copied_array = np.array(original_array)\n",
        "\n",
        "print(copied_array)\n"
      ],
      "metadata": {
        "colab": {
          "base_uri": "https://localhost:8080/"
        },
        "id": "6tnxlyP8QNV3",
        "outputId": "bde76696-1b4d-46dc-dc63-548d86f8d581"
      },
      "execution_count": 8,
      "outputs": [
        {
          "output_type": "stream",
          "name": "stdout",
          "text": [
            "[1 2 3 4 5]\n"
          ]
        }
      ]
    },
    {
      "cell_type": "markdown",
      "source": [
        "# Question 3"
      ],
      "metadata": {
        "id": "kqZDdEzHQUYq"
      }
    },
    {
      "cell_type": "code",
      "source": [
        "import numpy as np\n",
        "\n",
        "\n",
        "arr = np.array([9, 2, 5, 1, 7, 3, 8, 4, 6])\n",
        "\n",
        "# Use the sort function to sort the array in ascending order\n",
        "sorted_arr = np.sort(arr)\n",
        "sorted_arrD = np.sort(arr)[::-1]\n",
        "\n",
        "\n",
        "print(\"Original 1D Array:\", arr)\n",
        "print(\"Sorted 1D Array (Ascending Order):\", sorted_arr)\n",
        "\n",
        "print(\"Original 1D Array:\", arr)\n",
        "print(\"Sorted 1D Array (Descending Order):\", sorted_arrD)\n",
        "\n"
      ],
      "metadata": {
        "colab": {
          "base_uri": "https://localhost:8080/"
        },
        "id": "9fIrVAfIQmjJ",
        "outputId": "ae4fe154-0584-4954-930b-0af256117871"
      },
      "execution_count": 22,
      "outputs": [
        {
          "output_type": "stream",
          "name": "stdout",
          "text": [
            "Original 1D Array: [9 2 5 1 7 3 8 4 6]\n",
            "Sorted 1D Array (Ascending Order): [1 2 3 4 5 6 7 8 9]\n",
            "Original 1D Array: [9 2 5 1 7 3 8 4 6]\n",
            "Sorted 1D Array (Descending Order): [9 8 7 6 5 4 3 2 1]\n"
          ]
        }
      ]
    },
    {
      "cell_type": "markdown",
      "source": [
        "# Question 4"
      ],
      "metadata": {
        "id": "OxAyb_eCROb0"
      }
    },
    {
      "cell_type": "code",
      "source": [
        "import numpy as np\n",
        "\n",
        "\n",
        "array = np.array([5, 2, 8, 1, 9, 3, 6])\n",
        "\n",
        "\n",
        "min_value = np.min(array)\n",
        "\n",
        "print(\"Minimum value in the array:\", min_value)\n"
      ],
      "metadata": {
        "colab": {
          "base_uri": "https://localhost:8080/"
        },
        "id": "nU5AND-tROO9",
        "outputId": "3e8641fe-fa06-4a56-ffc9-005b41c2330e"
      },
      "execution_count": 6,
      "outputs": [
        {
          "output_type": "stream",
          "name": "stdout",
          "text": [
            "Minimum value in the array: 1\n"
          ]
        }
      ]
    },
    {
      "cell_type": "markdown",
      "source": [
        "# Question 5"
      ],
      "metadata": {
        "id": "eP_9rfU9RbO2"
      }
    },
    {
      "cell_type": "code",
      "source": [
        "import numpy as np\n",
        "\n",
        "\n",
        "array1 = np.array([5, 10, 15, 20])\n",
        "array2 = np.array([2, 4, 6, 8])\n",
        "\n",
        "\n",
        "addition_result = array1 + array2\n",
        "\n",
        "\n",
        "subtraction_result = array1 - array2\n",
        "\n",
        "\n",
        "multiplication_result = array1 * array2\n",
        "\n",
        "\n",
        "division_result = array1 / array2\n",
        "\n",
        "print(\"Array 1:\", array1)\n",
        "print(\"Array 2:\", array2)\n",
        "print(\"Addition Result:\", addition_result)\n",
        "print(\"Subtraction Result:\", subtraction_result)\n",
        "print(\"Multiplication Result:\", multiplication_result)\n",
        "print(\"Division Result:\", division_result)\n"
      ],
      "metadata": {
        "colab": {
          "base_uri": "https://localhost:8080/"
        },
        "id": "bRJDFf5RRdbx",
        "outputId": "750ebb2a-a3c0-439f-9372-d6e0586ada4c"
      },
      "execution_count": 5,
      "outputs": [
        {
          "output_type": "stream",
          "name": "stdout",
          "text": [
            "Array 1: [ 5 10 15 20]\n",
            "Array 2: [2 4 6 8]\n",
            "Addition Result: [ 7 14 21 28]\n",
            "Subtraction Result: [ 3  6  9 12]\n",
            "Multiplication Result: [ 10  40  90 160]\n",
            "Division Result: [2.5 2.5 2.5 2.5]\n"
          ]
        }
      ]
    },
    {
      "cell_type": "markdown",
      "source": [
        "# Question 6"
      ],
      "metadata": {
        "id": "yMfKq0ZlRmMR"
      }
    },
    {
      "cell_type": "code",
      "source": [
        "import numpy as np\n",
        "\n",
        "\n",
        "sample_data = np.array([[1, 2, 3],[4, 5, 6]])\n",
        "\n",
        "\n",
        "print(\"Original 2D Array:\")\n",
        "print(sample_data)\n",
        "\n",
        "\n",
        "reshaped_data = sample_data.reshape(3, 2)\n",
        "\n",
        "print(\"\\nReshaped 2D Array:\")\n",
        "print(reshaped_data)\n",
        "\n"
      ],
      "metadata": {
        "colab": {
          "base_uri": "https://localhost:8080/"
        },
        "id": "ktTNigNORw1g",
        "outputId": "8df9252f-eaa3-4414-f4c0-1b0fbf58fbf1"
      },
      "execution_count": 21,
      "outputs": [
        {
          "output_type": "stream",
          "name": "stdout",
          "text": [
            "Original 2D Array:\n",
            "[[1 2 3]\n",
            " [4 5 6]]\n",
            "\n",
            "Reshaped 2D Array:\n",
            "[[1 2]\n",
            " [3 4]\n",
            " [5 6]]\n"
          ]
        }
      ]
    },
    {
      "cell_type": "code",
      "source": [
        "import numpy as np\n",
        "\n",
        "\n",
        "array1 = np.array([5, 10, 15, 20])\n",
        "array2 = np.array([2, 4, 6, 8])\n",
        "array3 = np.array([1, 2, 3, 4])\n",
        "\n",
        "\n",
        "s = array3 - array2 - array1\n",
        "m = array1 * array2 * array3\n",
        "d = array1/array2/array3\n",
        "a = array1 + array2 + array3\n",
        "\n",
        "print(\"Array 1:\", array1)\n",
        "print(\"Array 2:\", array2)\n",
        "print(\"Array 3:\", array3)\n",
        "print(\"Result of Subtraction:\", s)\n",
        "print(\"Result of Multiplication:\", m)\n",
        "print(\"Result of Division:\", d)\n",
        "print(\"Result of Addition:\", a)\n",
        "\n"
      ],
      "metadata": {
        "colab": {
          "base_uri": "https://localhost:8080/"
        },
        "id": "fKwNg4lKVzRK",
        "outputId": "6d1da9a3-4b9e-428e-c463-ba49bc60151f"
      },
      "execution_count": 16,
      "outputs": [
        {
          "output_type": "stream",
          "name": "stdout",
          "text": [
            "Array 1: [ 5 10 15 20]\n",
            "Array 2: [2 4 6 8]\n",
            "Array 3: [1 2 3 4]\n",
            "Result of Subtraction: [ -6 -12 -18 -24]\n",
            "Result of Multiplication: [ 10  80 270 640]\n",
            "Result of Division: [2.5        1.25       0.83333333 0.625     ]\n",
            "Result of Addition: [ 8 16 24 32]\n"
          ]
        }
      ]
    }
  ]
}