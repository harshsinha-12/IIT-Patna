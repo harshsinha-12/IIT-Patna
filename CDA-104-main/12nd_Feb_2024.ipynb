{
 "cells": [
  {
   "cell_type": "code",
   "execution_count": 1,
   "metadata": {},
   "outputs": [
    {
     "name": "stdout",
     "output_type": "stream",
     "text": [
      "I'd love to go to Bareilly!\n",
      "I'd love to go to Hyderabad!\n"
     ]
    }
   ],
   "source": [
    "prompt = \"Please enter city name, or 'quit' to exit: \"\n",
    "\n",
    "while True:\n",
    "    city = input(prompt)\n",
    "    if city == 'quit':\n",
    "        break\n",
    "    else:\n",
    "        print(f\"I'd love to go to {city.title()}!\")"
   ]
  },
  {
   "cell_type": "code",
   "execution_count": 3,
   "metadata": {},
   "outputs": [
    {
     "name": "stdout",
     "output_type": "stream",
     "text": [
      "1\n",
      "3\n",
      "5\n",
      "7\n",
      "9\n"
     ]
    }
   ],
   "source": [
    "c = 0\n",
    "while c < 10:\n",
    "    c = c + 1\n",
    "    if c % 2 == 0:\n",
    "        continue\n",
    "    print(c)"
   ]
  },
  {
   "cell_type": "code",
   "execution_count": 4,
   "metadata": {},
   "outputs": [
    {
     "name": "stdout",
     "output_type": "stream",
     "text": [
      "['dog', 'cat', 'dog', 'goldfish', 'cat', 'rabbit', 'cat']\n",
      "1\n",
      "2\n",
      "3\n",
      "['dog', 'dog', 'goldfish', 'rabbit']\n"
     ]
    }
   ],
   "source": [
    "pets : list = ['dog', 'cat', 'dog', 'goldfish', 'cat', 'rabbit', 'cat']\n",
    "print(pets)\n",
    "c = 0\n",
    "while 'cat' in pets:\n",
    "    c = c + 1\n",
    "    pets.remove('cat')\n",
    "    print(c)\n",
    "\n",
    "print(pets)"
   ]
  },
  {
   "cell_type": "code",
   "execution_count": 12,
   "metadata": {},
   "outputs": [
    {
     "name": "stdout",
     "output_type": "stream",
     "text": [
      "Yet to visit['Gaya', 'Bhagalpur']\n"
     ]
    },
    {
     "data": {
      "text/plain": [
       "['Patna']"
      ]
     },
     "execution_count": 12,
     "metadata": {},
     "output_type": "execute_result"
    }
   ],
   "source": [
    "lst = ['Patna', 'Gaya', 'Bhagalpur']\n",
    "visited = []\n",
    "\n",
    "while True:\n",
    "    if 'Patna' in lst:\n",
    "        visited.append('Patna')\n",
    "        lst.remove('Patna')\n",
    "        print(f\"Yet to visit{lst}\")\n",
    "        break\n",
    "\n",
    "visited\n",
    "    "
   ]
  },
  {
   "cell_type": "code",
   "execution_count": 16,
   "metadata": {},
   "outputs": [
    {
     "name": "stdout",
     "output_type": "stream",
     "text": [
      "{'harsh': 'udaipur'}\n"
     ]
    }
   ],
   "source": [
    "res = {}\n",
    "\n",
    "while True:\n",
    "    name: str = input(\"Enter your name: \")\n",
    "    city : str = input(\"Enter the city you wish to visit: \")\n",
    "\n",
    "    res[name] = city  \n",
    "\n",
    "    rep : str = input(\"You have any further people to respond(y/n): \")\n",
    "    if rep == 'yes':\n",
    "        continue\n",
    "    elif rep == 'no':\n",
    "        print(res)\n",
    "        break  \n",
    "\n",
    "\n"
   ]
  },
  {
   "cell_type": "code",
   "execution_count": null,
   "metadata": {},
   "outputs": [],
   "source": []
  }
 ],
 "metadata": {
  "kernelspec": {
   "display_name": "Python 3",
   "language": "python",
   "name": "python3"
  },
  "language_info": {
   "codemirror_mode": {
    "name": "ipython",
    "version": 3
   },
   "file_extension": ".py",
   "mimetype": "text/x-python",
   "name": "python",
   "nbconvert_exporter": "python",
   "pygments_lexer": "ipython3",
   "version": "3.12.0"
  }
 },
 "nbformat": 4,
 "nbformat_minor": 2
}
